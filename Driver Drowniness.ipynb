{
 "cells": [
  {
   "cell_type": "markdown",
   "metadata": {},
   "source": [
    "# Introduction"
   ]
  },
  {
   "cell_type": "markdown",
   "metadata": {
    "id": "c4BLS8kZEX5o"
   },
   "source": [
    "Driver Drowsiness is one of the main reasons for the road accidents. The dataset is downloaded from kaggle (\"Driver Drowsiness Dataset (DDD)\"). This dataset has been used for training and testing the CNN architecture. Transfer Learning (ResNet50) concept is used in this project."
   ]
  },
  {
   "cell_type": "markdown",
   "metadata": {},
   "source": [
    "### 1. Importing Dataset"
   ]
  },
  {
   "cell_type": "code",
   "execution_count": null,
   "metadata": {
    "id": "4D0eCWHTu9ci"
   },
   "outputs": [],
   "source": [
    "%config IPCompleter.greedy = True"
   ]
  },
  {
   "cell_type": "code",
   "execution_count": null,
   "metadata": {
    "id": "CCFXwHMJvDCZ"
   },
   "outputs": [],
   "source": [
    "import os\n",
    "os.environ['KAGGLE_CONFIG_DIR'] = '/content'"
   ]
  },
  {
   "cell_type": "code",
   "execution_count": null,
   "metadata": {
    "id": "M9dwj7Tfv77V"
   },
   "outputs": [],
   "source": [
    "#API Token has to be imported\n",
    "!mkdir -p ~/.kaggle\n",
    "!cp kaggle.json ~/.kaggle/"
   ]
  },
  {
   "cell_type": "code",
   "execution_count": null,
   "metadata": {
    "colab": {
     "base_uri": "https://localhost:8080/"
    },
    "id": "7eexjwDUxwdd",
    "outputId": "c2d9b5df-36dd-4a68-b7b2-33c5a10f23ed"
   },
   "outputs": [],
   "source": [
    "# Importing a dataset from kaggle\n",
    "!kaggle datasets download -d ismailnasri20/driver-drowsiness-dataset-ddd"
   ]
  },
  {
   "cell_type": "code",
   "execution_count": null,
   "metadata": {
    "id": "uSjdU05vzAjU"
   },
   "outputs": [],
   "source": [
    "# The dataset downloaded is zipped. We need to unzip to proceed further\n",
    "import zipfile\n",
    "zip = zipfile.ZipFile('/content/driver-drowsiness-dataset-ddd.zip')\n",
    "zip.extractall('/content')\n",
    "zip.close()"
   ]
  },
  {
   "cell_type": "code",
   "execution_count": null,
   "metadata": {
    "colab": {
     "base_uri": "https://localhost:8080/"
    },
    "id": "_v7uTjkJ1LTx",
    "outputId": "e9889bc8-25fa-469b-bb28-68f138a2693f"
   },
   "outputs": [],
   "source": [
    "# Installing split-folders library\n",
    "pip install split-folders"
   ]
  },
  {
   "cell_type": "code",
   "execution_count": null,
   "metadata": {
    "colab": {
     "base_uri": "https://localhost:8080/"
    },
    "id": "mtl971eazxTd",
    "outputId": "9bccdad1-3309-46b4-9bc9-d2c0436b7cf9"
   },
   "outputs": [],
   "source": [
    "import splitfolders\n",
    "data_dir = '/content/Driver Drowsiness Dataset (DDD)'\n",
    "output_dir = '/content/splitted_Data'\n",
    "#In splitfolders.ratio(), ratio parameter is given in format (a,b,c). a = training set ratio, b = validation set ratio, c = test set ratio\n",
    "splitfolders.ratio(data_dir, output=output_dir, seed=101, ratio=(.8, 0.15, 0.05))"
   ]
  },
  {
   "cell_type": "markdown",
   "metadata": {},
   "source": [
    "### 2. Relevant Libraries"
   ]
  },
  {
   "cell_type": "code",
   "execution_count": null,
   "metadata": {
    "id": "FSI2s7UU1So4"
   },
   "outputs": [],
   "source": [
    "# Importing Relevant Libraries\n",
    "from tensorflow.keras.layers import Input, Lambda, Dense, Flatten\n",
    "from tensorflow.keras.models import Model\n",
    "from tensorflow.keras.applications.resnet50 import ResNet50, preprocess_input\n",
    "from tensorflow.keras.preprocessing import image\n",
    "from tensorflow.keras.preprocessing.image import ImageDataGenerator,load_img\n",
    "from tensorflow.keras.models import Sequential\n",
    "import numpy as np\n",
    "from glob import glob\n",
    "import matplotlib.pyplot as plt\n",
    "import cv2 as cv\n",
    "import tensorflow as tf"
   ]
  },
  {
   "cell_type": "markdown",
   "metadata": {},
   "source": [
    "### 3. Data import"
   ]
  },
  {
   "cell_type": "code",
   "execution_count": null,
   "metadata": {
    "id": "sgfOXuhK1rsc"
   },
   "outputs": [],
   "source": [
    "train_path = '/content/splitted_Data/train'\n",
    "test_path = '/content/splitted_Data/test'\n",
    "val_path = '/content/splitted_Data/val'"
   ]
  },
  {
   "cell_type": "code",
   "execution_count": null,
   "metadata": {
    "id": "Y95fN7SUC-eW"
   },
   "outputs": [],
   "source": [
    "from tensorflow.keras.preprocessing.image import ImageDataGenerator\n",
    "\n",
    "train_datagen = ImageDataGenerator(rescale = 1./255,\n",
    "                                   shear_range = 0.2,\n",
    "                                   zoom_range = 0.2,\n",
    "                                   horizontal_flip = True)\n",
    "\n",
    "val_datagen = ImageDataGenerator(rescale = 1./255)\n",
    "test_datagen = ImageDataGenerator(rescale = 1./255)"
   ]
  },
  {
   "cell_type": "code",
   "execution_count": null,
   "metadata": {
    "colab": {
     "base_uri": "https://localhost:8080/"
    },
    "id": "Z-_kvxC4DBJX",
    "outputId": "f3d9187d-c99a-4c5a-bef9-150bd12c08f6"
   },
   "outputs": [],
   "source": [
    "train_data = train_datagen.flow_from_directory(train_path,\n",
    "                                                 target_size = IMAGE_SIZE,\n",
    "                                                 batch_size = 128,\n",
    "                                                 class_mode = 'binary')"
   ]
  },
  {
   "cell_type": "code",
   "execution_count": null,
   "metadata": {
    "colab": {
     "base_uri": "https://localhost:8080/"
    },
    "id": "0HJLOJ2VDScw",
    "outputId": "4c80f14c-c83d-4f8f-bb16-47576c234ca8"
   },
   "outputs": [],
   "source": [
    "val_data = val_datagen.flow_from_directory(val_path,\n",
    "                                                 target_size = IMAGE_SIZE,\n",
    "                                                 batch_size = 128,\n",
    "                                                 class_mode = 'binary')"
   ]
  },
  {
   "cell_type": "code",
   "execution_count": null,
   "metadata": {
    "colab": {
     "base_uri": "https://localhost:8080/"
    },
    "id": "8o69SKx6DS0m",
    "outputId": "b91fd077-f00f-4518-f581-0de9c581dba8"
   },
   "outputs": [],
   "source": [
    "test_data = test_datagen.flow_from_directory(test_path,\n",
    "                                                 target_size = IMAGE_SIZE,\n",
    "                                                 batch_size = 128,\n",
    "                                                 class_mode = 'binary')"
   ]
  },
  {
   "cell_type": "markdown",
   "metadata": {},
   "source": [
    "### 4. Model Creation"
   ]
  },
  {
   "cell_type": "code",
   "execution_count": null,
   "metadata": {
    "id": "AVJu5tJE1mok"
   },
   "outputs": [],
   "source": [
    "# Since we are using ResNet50, it's default input layer size is (224, 224). We are keeping its same.\n",
    "IMAGE_SIZE = [224,224]"
   ]
  },
  {
   "cell_type": "code",
   "execution_count": null,
   "metadata": {
    "colab": {
     "base_uri": "https://localhost:8080/"
    },
    "id": "ttphNX249nmm",
    "outputId": "fbb9e0ce-caa7-4f00-b273-ddd7ee901666"
   },
   "outputs": [],
   "source": [
    "#Creating ResNet50 model. Parameters are explained below.\n",
    "# IMAGE_SIZE = input image size, [3] indicates it's RGB channel\n",
    "#weights = 'imagenet'. It means we are taking weights as per standard ResNet50.\n",
    "#include_top = False. Input and output layers are given by us.\n",
    "resnet = ResNet50(input_shape=IMAGE_SIZE + [3], weights='imagenet', include_top=False)"
   ]
  },
  {
   "cell_type": "code",
   "execution_count": null,
   "metadata": {
    "colab": {
     "base_uri": "https://localhost:8080/"
    },
    "id": "7O4IgfJRHvSJ",
    "outputId": "2312ff49-e16d-47a5-9ee5-b6f8d22f5a75"
   },
   "outputs": [],
   "source": [
    "resnet.summary()"
   ]
  },
  {
   "cell_type": "code",
   "execution_count": null,
   "metadata": {
    "id": "ll9tE2nV939p"
   },
   "outputs": [],
   "source": [
    "# don't train existing weights. we are just using the trained weights\n",
    "for layer in resnet.layers:\n",
    "    layer.trainable = False"
   ]
  },
  {
   "cell_type": "code",
   "execution_count": null,
   "metadata": {
    "id": "MYBF3T4rAtjc"
   },
   "outputs": [],
   "source": [
    "x = Flatten()(resnet.output)"
   ]
  },
  {
   "cell_type": "code",
   "execution_count": null,
   "metadata": {
    "id": "FK1qi4BKAv-S"
   },
   "outputs": [],
   "source": [
    "# The number of nodes in the output layer is 1. (Binary image classification)\n",
    "prediction = Dense(1, activation='sigmoid')(x)\n",
    "\n",
    "# create a model object\n",
    "model = Model(inputs=resnet.input, outputs=prediction)"
   ]
  },
  {
   "cell_type": "code",
   "execution_count": null,
   "metadata": {
    "colab": {
     "base_uri": "https://localhost:8080/"
    },
    "id": "TxeUnQGaA8O8",
    "outputId": "9770e2d9-a642-4579-b260-42480ae2f208"
   },
   "outputs": [],
   "source": [
    "model.summary()\n"
   ]
  },
  {
   "cell_type": "code",
   "execution_count": null,
   "metadata": {
    "colab": {
     "base_uri": "https://localhost:8080/"
    },
    "id": "EJgiX1QI_Bs2",
    "outputId": "36cb4939-fab1-4f75-c9cf-1c31b90c5152"
   },
   "outputs": [],
   "source": [
    "# Chaecking the number of classes\n",
    "folders = glob('/content/splitted_Data/train/*')\n",
    "folders"
   ]
  },
  {
   "cell_type": "code",
   "execution_count": null,
   "metadata": {
    "id": "DSEa7BQ4BCip"
   },
   "outputs": [],
   "source": [
    "model.compile(loss='binary_crossentropy', optimizer='adam', metrics=['accuracy'])"
   ]
  },
  {
   "cell_type": "code",
   "execution_count": null,
   "metadata": {
    "colab": {
     "base_uri": "https://localhost:8080/",
     "height": 1000
    },
    "id": "NtorTS9C2KJC",
    "outputId": "ec5e2711-15c2-43f3-e63c-279fa10a3cb8"
   },
   "outputs": [],
   "source": [
    "#Checking random images\n",
    "fig, axes = plt.subplots(8, 4, figsize=(15, 30))\n",
    "class_indices = train_data.class_indices\n",
    "\n",
    "for i in range(8):\n",
    "    images, labels = next(train_data)\n",
    "    for j in range(4):\n",
    "\n",
    "        ax = axes[i, j]\n",
    "        ax.imshow(images[j])\n",
    "        ax.axis('off')\n",
    "        label = int(labels[j])\n",
    "        label_name = list(class_indices.keys())[list(class_indices.values()).index(label)]\n",
    "        ax.set_title(f'{label_name} ({label})')\n",
    "\n",
    "plt.tight_layout()\n",
    "plt.show()"
   ]
  },
  {
   "cell_type": "code",
   "execution_count": null,
   "metadata": {
    "colab": {
     "base_uri": "https://localhost:8080/",
     "height": 321
    },
    "id": "v-FWXOkdBuen",
    "outputId": "2067f562-7a2c-4442-94cc-537c38b5f956"
   },
   "outputs": [],
   "source": [
    "r = model.fit(train_data, validation_data= val_data, epochs=5)"
   ]
  },
  {
   "cell_type": "code",
   "execution_count": null,
   "metadata": {
    "colab": {
     "base_uri": "https://localhost:8080/",
     "height": 452
    },
    "id": "-fNuiijt2ZL4",
    "outputId": "29f77838-ea13-4871-b0c0-4572b79c7cdc"
   },
   "outputs": [],
   "source": [
    "test_image = cv.imread('/content/splitted_Data/test/NonDrowsy/a0075.png')\n",
    "plt.imshow(test_image)"
   ]
  },
  {
   "cell_type": "code",
   "execution_count": null,
   "metadata": {
    "colab": {
     "base_uri": "https://localhost:8080/"
    },
    "id": "MaJcPZmYWwE1",
    "outputId": "585fff92-a495-4edb-987d-8b3211b0a687"
   },
   "outputs": [],
   "source": [
    "test_image.shape"
   ]
  },
  {
   "cell_type": "code",
   "execution_count": null,
   "metadata": {
    "id": "1v-RXJSGW-YZ"
   },
   "outputs": [],
   "source": [
    "test_image = cv.resize(test_image, (224,224))\n",
    "test_input = test_image.reshape(1,224,224,3)"
   ]
  },
  {
   "cell_type": "code",
   "execution_count": null,
   "metadata": {
    "colab": {
     "base_uri": "https://localhost:8080/"
    },
    "id": "HQ9gNDPTXFh0",
    "outputId": "b0a54754-acdc-4363-f588-15b98a55aed9"
   },
   "outputs": [],
   "source": [
    " pred = model.predict(test_input)\n",
    "if (pred < 0.5):\n",
    "    print(\"Drowsy\")\n",
    "else:\n",
    "    print('NonDrowsy')"
   ]
  },
  {
   "cell_type": "code",
   "execution_count": null,
   "metadata": {
    "colab": {
     "base_uri": "https://localhost:8080/"
    },
    "id": "KBmcdsSiZjYO",
    "outputId": "62694316-9df9-4ade-c4e8-6ca800abe54b"
   },
   "outputs": [],
   "source": [
    "model.evaluate(test_data)"
   ]
  },
  {
   "cell_type": "code",
   "execution_count": null,
   "metadata": {
    "id": "GGalVjHGa8Q4"
   },
   "outputs": [],
   "source": []
  }
 ],
 "metadata": {
  "accelerator": "GPU",
  "colab": {
   "gpuType": "T4",
   "provenance": []
  },
  "kernelspec": {
   "display_name": "Python 3 (ipykernel)",
   "language": "python",
   "name": "python3"
  },
  "language_info": {
   "codemirror_mode": {
    "name": "ipython",
    "version": 3
   },
   "file_extension": ".py",
   "mimetype": "text/x-python",
   "name": "python",
   "nbconvert_exporter": "python",
   "pygments_lexer": "ipython3",
   "version": "3.11.5"
  }
 },
 "nbformat": 4,
 "nbformat_minor": 1
}
